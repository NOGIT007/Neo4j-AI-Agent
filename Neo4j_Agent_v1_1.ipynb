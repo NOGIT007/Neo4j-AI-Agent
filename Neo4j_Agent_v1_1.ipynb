{
  "cells": [
    {
      "cell_type": "markdown",
      "metadata": {
        "id": "main_title"
      },
      "source": [
        "# Neo4j AI Agent Template - Complete Guide\n",
        "\n",
        "## 🎯 What This Template Creates\n",
        "\n",
        "This notebook creates an intelligent database assistant that lets you talk to your Neo4j database in **plain English** instead of writing complex database queries.\n",
        "\n",
        "### Before vs After\n",
        "- **Before**: You'd need to learn Cypher (Neo4j's query language) to ask your database questions\n",
        "- **After**: You can ask \"Show me all customers with overdue invoices\" and the AI figures out the database query for you\n",
        "\n",
        "### Real-World Example\n",
        "Instead of writing:\n",
        "```cypher\n",
        "MATCH (c:Customer)-[:HAS_INVOICE]->(i:Invoice)\n",
        "WHERE i.dueDate < date() AND i.status = 'unpaid'\n",
        "RETURN c.name, i.amount\n",
        "```\n",
        "You just ask: **\"Which customers have unpaid invoices that are past due?\"**\n",
        "\n",
        "### Technology Stack\n",
        "- **Neo4j**: Graph database (stores connected data like customers, invoices, subscriptions)\n",
        "- **Google Vertex AI**: Google's AI service that understands natural language\n",
        "- **Google ADK**: Agent Development Kit for building intelligent agents\n",
        "- **MCP Toolbox**: Model Context Protocol for database interactions\n",
        "- **Gemini**: Google's AI model that converts questions into database queries\n",
        "\n",
        "### What You'll Have When Done\n",
        "A deployed AI assistant that your team can use to get insights from your data without needing to know database programming.\n",
        "\n",
        "---\n",
        "\n",
        "## 📋 Prerequisites\n",
        "1. **Google Cloud Project** with billing enabled\n",
        "2. **Neo4j Database** (Neo4j Aura or self-hosted)\n",
        "3. **Basic understanding** of your data structure\n",
        "4. **5-15 minutes** for deployment\n",
        "\n",
        "---\n",
        "\n",
        "## 🗂️ Template Structure\n",
        "\n",
        "### Phase 1: Environment Setup\n",
        "- Install required packages\n",
        "- Authenticate with Google Cloud\n",
        "- Configure your settings\n",
        "\n",
        "### Phase 2: Local Development & Testing\n",
        "- Create the AI agent\n",
        "- Test locally with your database\n",
        "- Verify functionality\n",
        "\n",
        "### Phase 3: Deployment Preparation\n",
        "- Prepare deployment configuration\n",
        "- Set up environment variables\n",
        "- Create deployable agent class\n",
        "\n",
        "### Phase 4: Cloud Deployment\n",
        "- Deploy to Vertex AI Agent Engine\n",
        "- Test the deployed agent\n",
        "- Verify cloud functionality\n",
        "\n",
        "Let's begin! 🚀"
      ]
    },
    {
      "cell_type": "markdown",
      "metadata": {
        "id": "phase1_title"
      },
      "source": [
        "# 🔧 Phase 1: Environment Setup\n",
        "\n",
        "In this phase, we'll install all the necessary tools and set up authentication."
      ]
    },
    {
      "cell_type": "markdown",
      "metadata": {
        "id": "step1_install"
      },
      "source": [
        "## Step 1.1: Install Required Packages\n",
        "\n",
        "**What this does**: Downloads and installs the software tools you need - think of it like installing apps on your phone.\n",
        "\n",
        "**Packages installed**:\n",
        "- `google-cloud-aiplatform[adk,agent_engines]`: Google's AI platform with Agent Development Kit\n",
        "- `neo4j`: Official Neo4j Python driver for database connections\n",
        "- `requests`: HTTP library for web requests\n",
        "\n",
        "**Time**: ~30-60 seconds"
      ]
    },
    {
      "cell_type": "code",
      "execution_count": 1,
      "metadata": {
        "id": "install_packages",
        "colab": {
          "base_uri": "https://localhost:8080/"
        },
        "outputId": "2456a3d2-891e-4829-ee1b-f3d8adaa9f8a"
      },
      "outputs": [
        {
          "output_type": "stream",
          "name": "stdout",
          "text": [
            "🔄 Installing required packages...\n",
            "   This may take 30-60 seconds...\n",
            "✅ Packages installed successfully!\n",
            "   - Google Cloud AI Platform with ADK\n",
            "   - Neo4j Python Driver\n",
            "   - Requests library\n"
          ]
        }
      ],
      "source": [
        "print(\"🔄 Installing required packages...\")\n",
        "print(\"   This may take 30-60 seconds...\")\n",
        "\n",
        "!pip install --upgrade --quiet \"google-cloud-aiplatform[adk,agent_engines]>=1.56.0\" neo4j>=5.15.0 requests==2.32.3\n",
        "\n",
        "print(\"✅ Packages installed successfully!\")\n",
        "print(\"   - Google Cloud AI Platform with ADK\")\n",
        "print(\"   - Neo4j Python Driver\")\n",
        "print(\"   - Requests library\")"
      ]
    },
    {
      "cell_type": "markdown",
      "metadata": {
        "id": "step1_restart"
      },
      "source": [
        "## Step 1.2: Restart Runtime\n",
        "\n",
        "**What this does**: Restarts your coding environment so it can use the newly installed tools. Like restarting your computer after installing new software.\n",
        "\n",
        "**Note**: After running this cell, the notebook will restart. This is normal and expected."
      ]
    },
    {
      "cell_type": "code",
      "execution_count": 2,
      "metadata": {
        "id": "restart_runtime",
        "colab": {
          "base_uri": "https://localhost:8080/"
        },
        "outputId": "d1ef64a6-52cf-4f7d-bd24-0ba05526a154"
      },
      "outputs": [
        {
          "output_type": "stream",
          "name": "stdout",
          "text": [
            "🔄 Restarting runtime to load new packages...\n",
            "   The notebook will restart automatically.\n",
            "   Continue with the next cell after restart.\n"
          ]
        },
        {
          "output_type": "execute_result",
          "data": {
            "text/plain": [
              "{'status': 'ok', 'restart': True}"
            ]
          },
          "metadata": {},
          "execution_count": 2
        }
      ],
      "source": [
        "print(\"🔄 Restarting runtime to load new packages...\")\n",
        "print(\"   The notebook will restart automatically.\")\n",
        "print(\"   Continue with the next cell after restart.\")\n",
        "\n",
        "# Restart kernel after installs so that your environment can access the new packages\n",
        "import IPython\n",
        "\n",
        "app = IPython.Application.instance()\n",
        "app.kernel.do_shutdown(True)"
      ]
    },
    {
      "cell_type": "markdown",
      "metadata": {
        "id": "step1_auth"
      },
      "source": [
        "## Step 1.3: Authenticate with Google Cloud\n",
        "\n",
        "**What this does**: Logs you into Google Cloud so you can use their AI services.\n",
        "\n",
        "**When to run**: Only needed if you're using Google Colab. Skip if running locally with gcloud auth.\n",
        "\n",
        "**What happens**: A popup will appear asking you to authorize access to your Google Cloud account."
      ]
    },
    {
      "cell_type": "code",
      "execution_count": 3,
      "metadata": {
        "id": "authenticate_user",
        "colab": {
          "base_uri": "https://localhost:8080/"
        },
        "outputId": "622f9bbc-c111-45b5-9da9-e4c07c0baaa8"
      },
      "outputs": [
        {
          "output_type": "stream",
          "name": "stdout",
          "text": [
            "🔐 Authenticating with Google Cloud...\n",
            "✅ User authenticated successfully!\n",
            "   You can now access Google Cloud services.\n"
          ]
        }
      ],
      "source": [
        "print(\"🔐 Authenticating with Google Cloud...\")\n",
        "\n",
        "try:\n",
        "    from google.colab import auth\n",
        "    auth.authenticate_user()\n",
        "    print(\"✅ User authenticated successfully!\")\n",
        "    print(\"   You can now access Google Cloud services.\")\n",
        "except ImportError:\n",
        "    print(\"ℹ️  Not running in Colab - assuming local authentication is set up.\")\n",
        "    print(\"   Make sure you've run 'gcloud auth login' locally.\")"
      ]
    },
    {
      "cell_type": "markdown",
      "metadata": {
        "id": "step1_config"
      },
      "source": [
        "## Step 1.4: Configure Your Settings\n",
        "\n",
        "**What this does**: Sets up your \"address book\" - tells the code where to find your Google Cloud project, Neo4j database, and login credentials.\n",
        "\n",
        "**🚨 IMPORTANT**: Replace the placeholder values below with your actual credentials:\n",
        "\n",
        "### Google Cloud Settings\n",
        "- `PROJECT_ID`: Your Google Cloud project ID\n",
        "- `LOCATION`: Your preferred region (e.g., 'us-central1', 'europe-west4')\n",
        "- `STAGING_BUCKET`: Your GCS bucket for storing deployment files\n",
        "\n",
        "### Neo4j Settings\n",
        "- `NEO4J_URI`: Your Neo4j connection URI\n",
        "- `NEO4J_USERNAME`: Your Neo4j username (usually 'neo4j')\n",
        "- `NEO4J_PASSWORD`: Your Neo4j password\n",
        "- `NEO4J_DATABASE`: Your database name (usually 'neo4j')\n",
        "\n",
        "### Agent Settings\n",
        "- `MODEL_NAME`: The AI model to use (recommend 'gemini-2.5-flash')\n",
        "- `AGENT_DISPLAY_NAME`: A unique name for your agent"
      ]
    },
    {
      "cell_type": "code",
      "execution_count": 7,
      "metadata": {
        "id": "configure_settings",
        "colab": {
          "base_uri": "https://localhost:8080/"
        },
        "outputId": "48632ff1-a7bd-4cfb-fb5c-11cdb0f84aa3"
      },
      "outputs": [
        {
          "output_type": "stream",
          "name": "stdout",
          "text": [
            "⚙️  Interactive Configuration Setup...\n",
            "   Enter your credentials when prompted (press Enter for defaults where shown)\n",
            "\n",
            "--- Google Cloud Configuration ---\n",
            "🔴 Google Cloud Project ID: 881765721010 \n",
            "🌍 Region [europe-west4]: europe-west4\n",
            "📦 GCS Staging Bucket (gs://bucket-name): gs://vertex_ai_agent_engine_test_disco\n",
            "\n",
            "--- Neo4j Configuration ---\n",
            "🗄️  Neo4j URI (neo4j+s://xxxxx.databases.neo4j.io): neo4j+s://agentspace-c4x9-c86d.endpoints.neo4j.io\n",
            "👤 Neo4j Username [neo4j]: neo4j\n",
            "🔑 Neo4j Password: 8hZTnHo5gyXe1V4bSqlbjgVsyYjESB9Oh1clbXIi_0k\n",
            "🗃️  Neo4j Database [neo4j]: neo4j\n",
            "\n",
            "--- Agent Configuration ---\n",
            "🧠 Available models:\n",
            "   - gemini-2.5-flash (fastest)\n",
            "   - gemini-2.5-pro (recommended: most capable)\n",
            "🤖 Model [gemini-2.5-flash]: gemini-2.5-flash\n",
            "🏷️  Agent Display Name: agent_neo4j_v5\n",
            "\n",
            "🔍 Configuration validation:\n",
            "✅ PROJECT_ID: Set\n",
            "✅ STAGING_BUCKET: Valid format\n",
            "✅ NEO4J_URI: Set\n",
            "✅ NEO4J_PASSWORD: Set\n",
            "✅ AGENT_DISPLAY_NAME: Set\n",
            "\n",
            "✅ All configuration completed successfully!\n",
            "   📋 Project: 881765721010\n",
            "   🌍 Region: europe-west4\n",
            "   🗄️  Database: neo4j+s://agentspace-c4x9-c86d.endpoints.neo4j.io\n",
            "   🤖 Agent: agent_neo4j_v5\n",
            "   🧠 Model: gemini-2.5-flash\n",
            "   📦 Staging: gs://vertex_ai_agent_engine_test_disco\n",
            "\n",
            "🎯 Ready to proceed with agent creation!\n"
          ]
        }
      ],
      "source": [
        "print(\"⚙️  Interactive Configuration Setup...\")\n",
        "print(\"   Enter your credentials when prompted (press Enter for defaults where shown)\")\n",
        "\n",
        "# =============================================================================\n",
        "# 📝 INTERACTIVE CONFIGURATION - Enter your actual credentials\n",
        "# =============================================================================\n",
        "\n",
        "print(\"\\n--- Google Cloud Configuration ---\")\n",
        "PROJECT_ID = input(\"🔴 Google Cloud Project ID: \").strip()\n",
        "while not PROJECT_ID:\n",
        "    print(\"   ❌ Project ID is required!\")\n",
        "    PROJECT_ID = input(\"🔴 Google Cloud Project ID: \").strip()\n",
        "\n",
        "LOCATION = input(f\"🌍 Region [europe-west4]: \").strip() or \"europe-west4\"\n",
        "\n",
        "STAGING_BUCKET = input(\"📦 GCS Staging Bucket (gs://bucket-name): \").strip()\n",
        "while not STAGING_BUCKET or not STAGING_BUCKET.startswith(\"gs://\"):\n",
        "    if STAGING_BUCKET and not STAGING_BUCKET.startswith(\"gs://\"):\n",
        "        print(\"   ❌ Bucket must start with 'gs://'\")\n",
        "        STAGING_BUCKET = input(\"📦 GCS Staging Bucket (gs://bucket-name): \").strip()\n",
        "    else:\n",
        "        print(\"   ❌ Staging bucket is required!\")\n",
        "        STAGING_BUCKET = input(\"📦 GCS Staging Bucket (gs://bucket-name): \").strip()\n",
        "\n",
        "print(\"\\n--- Neo4j Configuration ---\")\n",
        "NEO4J_URI = input(\"🗄️  Neo4j URI (neo4j+s://xxxxx.databases.neo4j.io): \").strip()\n",
        "while not NEO4J_URI:\n",
        "    print(\"   ❌ Neo4j URI is required!\")\n",
        "    NEO4J_URI = input(\"🗄️  Neo4j URI: \").strip()\n",
        "\n",
        "NEO4J_USERNAME = input(\"👤 Neo4j Username [neo4j]: \").strip() or \"neo4j\"\n",
        "\n",
        "NEO4J_PASSWORD = input(\"🔑 Neo4j Password: \").strip()\n",
        "while not NEO4J_PASSWORD:\n",
        "    print(\"   ❌ Neo4j password is required!\")\n",
        "    NEO4J_PASSWORD = input(\"🔑 Neo4j Password: \").strip()\n",
        "\n",
        "NEO4J_DATABASE = input(\"🗃️  Neo4j Database [neo4j]: \").strip() or \"neo4j\"\n",
        "\n",
        "print(\"\\n--- Agent Configuration ---\")\n",
        "print(\"🧠 Available models:\")\n",
        "print(\"   - gemini-2.5-flash (fastest)\")\n",
        "print(\"   - gemini-2.5-pro (recommended: most capable)\")\n",
        "\n",
        "MODEL_NAME = input(\"🤖 Model [gemini-2.5-flash]: \").strip() or \"gemini-2.5-pro\"\n",
        "while MODEL_NAME not in [\"gemini-2.5-flash\", \"gemini-2.5-pro\"]:\n",
        "    print(\"   ❌ Please choose either 'gemini-2.5-flash' or 'gemini-2.5-pro'\")\n",
        "    MODEL_NAME = input(\"🤖 Model [gemini-2.5-pro]: \").strip() or \"gemini-2.5-pro\"\n",
        "\n",
        "AGENT_DISPLAY_NAME = input(\"🏷️  Agent Display Name: \").strip()\n",
        "while not AGENT_DISPLAY_NAME:\n",
        "    print(\"   ❌ Agent name is required!\")\n",
        "    AGENT_DISPLAY_NAME = input(\"🏷️  Agent Display Name: \").strip()\n",
        "\n",
        "# =============================================================================\n",
        "\n",
        "print(\"\\n🔍 Configuration validation:\")\n",
        "print(\"✅ PROJECT_ID: Set\")\n",
        "print(\"✅ STAGING_BUCKET: Valid format\")\n",
        "print(\"✅ NEO4J_URI: Set\")\n",
        "print(\"✅ NEO4J_PASSWORD: Set\")\n",
        "print(\"✅ AGENT_DISPLAY_NAME: Set\")\n",
        "\n",
        "print(\"\\n✅ All configuration completed successfully!\")\n",
        "print(f\"   📋 Project: {PROJECT_ID}\")\n",
        "print(f\"   🌍 Region: {LOCATION}\")\n",
        "print(f\"   🗄️  Database: {NEO4J_URI.split('@')[1] if '@' in NEO4J_URI else NEO4J_URI}\")\n",
        "print(f\"   🤖 Agent: {AGENT_DISPLAY_NAME}\")\n",
        "print(f\"   🧠 Model: {MODEL_NAME}\")\n",
        "print(f\"   📦 Staging: {STAGING_BUCKET}\")\n",
        "\n",
        "print(\"\\n🎯 Ready to proceed with agent creation!\")"
      ]
    },
    {
      "cell_type": "markdown",
      "metadata": {
        "id": "phase2_title"
      },
      "source": [
        "# 🧪 Phase 2: Local Development & Testing\n",
        "\n",
        "In this phase, we'll create the AI agent and test it locally with your Neo4j database."
      ]
    },
    {
      "cell_type": "markdown",
      "metadata": {
        "id": "step2_imports"
      },
      "source": [
        "## Step 2.1: Import Required Libraries\n",
        "\n",
        "**What this does**: Brings in the specific tools you need from Google's AI toolkit and Neo4j. Like opening the apps you need for a project.\n",
        "\n",
        "**Libraries imported**:\n",
        "- `vertexai`: Google's AI platform\n",
        "- `google.adk.agents`: Agent Development Kit\n",
        "- `neo4j`: Database driver\n",
        "- `json`, `logging`: Utility libraries"
      ]
    },
    {
      "cell_type": "code",
      "execution_count": 8,
      "metadata": {
        "id": "import_libraries",
        "colab": {
          "base_uri": "https://localhost:8080/"
        },
        "outputId": "fac048f9-4d31-44b8-85f7-71b165e04f7e"
      },
      "outputs": [
        {
          "output_type": "stream",
          "name": "stdout",
          "text": [
            "📦 Importing required libraries...\n",
            "✅ Libraries imported successfully!\n",
            "   - Vertex AI platform\n",
            "   - Google ADK agents\n",
            "   - Neo4j database driver\n",
            "   - Supporting utilities\n"
          ]
        }
      ],
      "source": [
        "print(\"📦 Importing required libraries...\")\n",
        "\n",
        "import os\n",
        "import logging\n",
        "import json\n",
        "import vertexai\n",
        "from google.adk.agents import Agent\n",
        "from vertexai.preview import reasoning_engines\n",
        "from vertexai import agent_engines\n",
        "from neo4j import GraphDatabase\n",
        "from datetime import date, datetime\n",
        "\n",
        "print(\"✅ Libraries imported successfully!\")\n",
        "print(\"   - Vertex AI platform\")\n",
        "print(\"   - Google ADK agents\")\n",
        "print(\"   - Neo4j database driver\")\n",
        "print(\"   - Supporting utilities\")\n",
        "\n",
        "# Set up logging\n",
        "logging.basicConfig(level=logging.INFO, format='%(asctime)s - %(levelname)s - %(message)s')"
      ]
    },
    {
      "cell_type": "markdown",
      "metadata": {
        "id": "step2_init"
      },
      "source": [
        "## Step 2.2: Initialize Vertex AI\n",
        "\n",
        "**What this does**: Starts up Google's AI service using the settings you provided in Step 1.4.\n",
        "\n",
        "**This step**:\n",
        "- Connects to your Google Cloud project\n",
        "- Sets up the AI platform in your specified region\n",
        "- Prepares the staging bucket for deployments"
      ]
    },
    {
      "cell_type": "code",
      "execution_count": 9,
      "metadata": {
        "id": "initialize_vertexai",
        "colab": {
          "base_uri": "https://localhost:8080/"
        },
        "outputId": "b1449daf-758a-493b-b124-fdbe46ee518a"
      },
      "outputs": [
        {
          "output_type": "stream",
          "name": "stdout",
          "text": [
            "🚀 Initializing Vertex AI...\n",
            "✅ Vertex AI initialized successfully!\n",
            "   📋 Project: 881765721010\n",
            "   🌍 Region: europe-west4\n",
            "   📦 Staging Bucket: gs://vertex_ai_agent_engine_test_disco\n",
            "✅ Environment variables set for Neo4j connection.\n"
          ]
        }
      ],
      "source": [
        "print(\"🚀 Initializing Vertex AI...\")\n",
        "\n",
        "try:\n",
        "    vertexai.init(project=PROJECT_ID, location=LOCATION, staging_bucket=STAGING_BUCKET)\n",
        "    print(\"✅ Vertex AI initialized successfully!\")\n",
        "    print(f\"   📋 Project: {PROJECT_ID}\")\n",
        "    print(f\"   🌍 Region: {LOCATION}\")\n",
        "    print(f\"   📦 Staging Bucket: {STAGING_BUCKET}\")\n",
        "\n",
        "    # Set environment variables for the agent functions\n",
        "    os.environ[\"NEO4J_URI\"] = NEO4J_URI\n",
        "    os.environ[\"NEO4J_USERNAME\"] = NEO4J_USERNAME\n",
        "    os.environ[\"NEO4J_PASSWORD\"] = NEO4J_PASSWORD\n",
        "    os.environ[\"NEO4J_DATABASE\"] = NEO4J_DATABASE\n",
        "\n",
        "    print(\"✅ Environment variables set for Neo4j connection.\")\n",
        "\n",
        "except Exception as e:\n",
        "    print(f\"❌ ERROR: Failed to initialize Vertex AI: {e}\")\n",
        "    print(\"\\n🔧 Troubleshooting:\")\n",
        "    print(\"   1. Verify your PROJECT_ID is correct\")\n",
        "    print(\"   2. Ensure the Vertex AI API is enabled in your project\")\n",
        "    print(\"   3. Check your staging bucket exists and is accessible\")\n",
        "    raise"
      ]
    },
    {
      "cell_type": "markdown",
      "metadata": {
        "id": "step2_functions"
      },
      "source": [
        "## Step 2.3: Create Agent Tool Functions\n",
        "\n",
        "**What this does**: Creates the core functions that your AI agent will use to interact with your Neo4j database.\n",
        "\n",
        "**Functions created**:\n",
        "1. **`_make_serializable`**: Helper function to handle Neo4j date objects\n",
        "2. **`_execute_query`**: Private function to run Cypher queries safely\n",
        "3. **`get_neo4j_schema`**: Gets database structure (nodes, relationships, properties)\n",
        "4. **`execute_cypher_query`**: Executes read-only queries for data retrieval\n",
        "\n",
        "**Security**: The functions are designed to be read-only to prevent accidental data modification."
      ]
    },
    {
      "cell_type": "code",
      "execution_count": 10,
      "metadata": {
        "id": "create_functions",
        "colab": {
          "base_uri": "https://localhost:8080/"
        },
        "outputId": "86d3acb2-e95f-4436-d246-beaced38ef90"
      },
      "outputs": [
        {
          "output_type": "stream",
          "name": "stdout",
          "text": [
            "🔧 Creating agent tool functions...\n",
            "✅ Agent tool functions created successfully!\n",
            "   🔍 get_neo4j_schema - Discovers database structure\n",
            "   📊 execute_cypher_query - Runs read-only queries\n",
            "   🔒 Security: Write operations are blocked\n",
            "   🔄 JSON serialization: Handles Neo4j date objects\n"
          ]
        }
      ],
      "source": [
        "print(\"🔧 Creating agent tool functions...\")\n",
        "\n",
        "def _make_serializable(obj):\n",
        "    \"\"\"\n",
        "    Helper function that recursively finds non-serializable objects (like dates)\n",
        "    and converts them to strings for JSON serialization.\n",
        "\n",
        "    This fixes issues with Neo4j date/time objects that can't be directly\n",
        "    converted to JSON.\n",
        "    \"\"\"\n",
        "    if isinstance(obj, dict):\n",
        "        return {k: _make_serializable(v) for k, v in obj.items()}\n",
        "    if isinstance(obj, list):\n",
        "        return [_make_serializable(i) for i in obj]\n",
        "    # Check for Neo4j and standard Python date/datetime objects\n",
        "    if isinstance(obj, (date, datetime)) or type(obj).__module__.startswith('neo4j.time'):\n",
        "        return obj.isoformat()\n",
        "    return obj\n",
        "\n",
        "def _execute_query(query: str, params: dict) -> str:\n",
        "    \"\"\"\n",
        "    Private helper function to execute a Cypher query safely.\n",
        "\n",
        "    Creates a new database connection for each query to ensure\n",
        "    statelessness for cloud deployment.\n",
        "\n",
        "    Args:\n",
        "        query: The Cypher query to execute\n",
        "        params: Parameters for the query\n",
        "\n",
        "    Returns:\n",
        "        JSON string with query results or error information\n",
        "    \"\"\"\n",
        "    try:\n",
        "        # Create a new driver connection for each query\n",
        "        with GraphDatabase.driver(\n",
        "            os.environ[\"NEO4J_URI\"],\n",
        "            auth=(os.environ[\"NEO4J_USERNAME\"], os.environ[\"NEO4J_PASSWORD\"]),\n",
        "            database=os.environ[\"NEO4J_DATABASE\"]\n",
        "        ) as driver:\n",
        "            with driver.session() as session:\n",
        "                result = session.run(query, params)\n",
        "                records = [record.data() for record in result]\n",
        "                # Convert records to be JSON-serializable\n",
        "                serializable_records = _make_serializable(records)\n",
        "                return json.dumps(serializable_records)\n",
        "    except Exception as e:\n",
        "        logging.error(f\"Neo4j query failed: {e}\")\n",
        "        return json.dumps({\"error\": str(e)})\n",
        "\n",
        "def get_neo4j_schema() -> str:\n",
        "    \"\"\"\n",
        "    Retrieves the database schema, including all node labels, their properties,\n",
        "    and relationship types.\n",
        "\n",
        "    This is the most important tool for the agent to understand the database structure.\n",
        "    The agent should call this first before attempting any queries.\n",
        "\n",
        "    Returns:\n",
        "        JSON string containing nodes, relationships, and constraints\n",
        "    \"\"\"\n",
        "    logging.info(\"Executing tool: get_neo4j_schema\")\n",
        "    # Use db.schema.visualization() to get comprehensive schema information\n",
        "    statement = \"CALL db.schema.visualization()\"\n",
        "    return _execute_query(statement, {})\n",
        "\n",
        "def execute_cypher_query(cypher_query: str) -> str:\n",
        "    \"\"\"\n",
        "    Executes a read-only Cypher query against the database.\n",
        "\n",
        "    Use this tool after you have a good understanding of the database schema\n",
        "    from the get_neo4j_schema tool.\n",
        "\n",
        "    Args:\n",
        "        cypher_query: The Cypher query to execute (read-only only)\n",
        "\n",
        "    Returns:\n",
        "        JSON string with query results or error information\n",
        "\n",
        "    Security:\n",
        "        Only allows read operations (MATCH, RETURN). Blocks write operations\n",
        "        (CREATE, MERGE, SET, DELETE) for safety.\n",
        "    \"\"\"\n",
        "    logging.info(f\"Executing tool: execute_cypher_query with query='{cypher_query}'\")\n",
        "\n",
        "    # Security check: Only allow read-only queries\n",
        "    write_keywords = [\"CREATE\", \"MERGE\", \"SET\", \"DELETE\", \"REMOVE\"]\n",
        "    if any(keyword in cypher_query.upper() for keyword in write_keywords):\n",
        "        return json.dumps({\n",
        "            \"error\": \"This tool can only execute read-only queries (MATCH, RETURN). Write operations are not allowed for safety.\"\n",
        "        })\n",
        "\n",
        "    return _execute_query(cypher_query, {})\n",
        "\n",
        "print(\"✅ Agent tool functions created successfully!\")\n",
        "print(\"   🔍 get_neo4j_schema - Discovers database structure\")\n",
        "print(\"   📊 execute_cypher_query - Runs read-only queries\")\n",
        "print(\"   🔒 Security: Write operations are blocked\")\n",
        "print(\"   🔄 JSON serialization: Handles Neo4j date objects\")"
      ]
    },
    {
      "cell_type": "markdown",
      "metadata": {
        "id": "step2_create_agent"
      },
      "source": [
        "## Step 2.4: Create the AI Agent\n",
        "\n",
        "**What this does**: Creates your AI assistant using Google's Agent Development Kit (ADK). This agent combines Google's language model with your database tools.\n",
        "\n",
        "**Agent capabilities**:\n",
        "- Understands natural language questions\n",
        "- Automatically discovers your database structure\n",
        "- Converts questions to Cypher queries\n",
        "- Returns results in human-readable format\n",
        "\n",
        "**How it works**:\n",
        "1. Agent receives your question\n",
        "2. First calls `get_neo4j_schema` to understand your data\n",
        "3. Constructs appropriate Cypher query\n",
        "4. Executes query using `execute_cypher_query`\n",
        "5. Formats results for you"
      ]
    },
    {
      "source": [
        "print(\"🤖 Creating AI agent with Google ADK...\")\n",
        "\n",
        "# Create the agent using Google's Agent Development Kit\n",
        "neo4j_agent = Agent(\n",
        "    name=\"neo4j_database_agent\",\n",
        "    model=MODEL_NAME,\n",
        "    description=\"An intelligent agent that can inspect and query any Neo4j database using natural language.\",\n",
        "    instruction=(\n",
        "    \"You are an expert Neo4j database assistant. Your role is to help users get insights \"\n",
        "    \"from their Neo4j database using natural language queries.\\n\\n\"\n",
        "    \"WORKFLOW:\\n\"\n",
        "    \"1. ALWAYS start by calling `get_neo4j_schema` to understand the database structure\\n\"\n",
        "    \"2. Analyze the schema to understand nodes, relationships, and properties\\n\"\n",
        "    \"3. Use `execute_cypher_query` to construct and run appropriate Cypher queries\\n\"\n",
        "    \"4. Present results in a clear, human-readable format\\n\\n\"\n",
        "    \"BEST PRACTICES:\\n\"\n",
        "    \"- Use exact node labels and relationship types from the schema\\n\"\n",
        "    \"- Be intelligent about property matching - try common variations (mrr/MRR, name/productName, etc.)\\n\"\n",
        "    \"- Add LIMIT clauses for queries that might return many results (default: 10) but NOT for aggregations\\n\"\n",
        "    \"- Handle errors gracefully and provide helpful error messages\\n\"\n",
        "    \"- Format results as tables or lists when appropriate\\n\"\n",
        "    \"- Make reasonable assumptions about data relationships before asking for clarification\\n\"\n",
        "    \"- If a property seems related to what the user wants, try it first\\n\\n\"\n",
        "    \"QUERY CONSTRUCTION:\\n\"\n",
        "    \"- For financial queries, look for properties like: amount, mrr, arr, value, cost, price\\n\"\n",
        "    \"- For product queries, look for: name, productName, serviceName, description\\n\"\n",
        "    \"- For date queries, look for: date, createdDate, startDate, endDate, issueDate\\n\"\n",
        "    \"- Try the most likely property combinations before asking for clarification\\n\\n\"\n",
        "    \"SECURITY:\\n\"\n",
        "    \"- Only use read-only operations (MATCH, RETURN)\\n\"\n",
        "    \"- Never modify data (no CREATE, MERGE, SET, DELETE)\\n\\n\"\n",
        "    \"Always provide comprehensive, accurate responses. Be confident and make intelligent assumptions based on the discovered schema.\"\n",
        "    ),\n",
        "    tools=[\n",
        "        get_neo4j_schema,      # Tool to discover database structure\n",
        "        execute_cypher_query,  # Tool to run read-only queries\n",
        "    ],\n",
        ")\n",
        "\n",
        "print(\"✅ AI agent created successfully!\")\n",
        "print(f\"   🤖 Agent Name: {neo4j_agent.name}\")\n",
        "print(f\"   🧠 Model: {MODEL_NAME}\")\n",
        "print(f\"   🛠️  Tools: {len(neo4j_agent.tools)} database tools\")\n",
        "print(\"   📋 Capabilities:\")\n",
        "print(\"      - Natural language to Cypher translation\")\n",
        "print(\"      - Automatic schema discovery\")\n",
        "print(\"      - Read-only database querying\") # Corrected indentation here\n",
        "print(\"      - Human-readable result formatting\")"
      ],
      "cell_type": "code",
      "metadata": {
        "id": "8NFxZN9DA2J8",
        "colab": {
          "base_uri": "https://localhost:8080/"
        },
        "outputId": "a760ce3a-04f8-4f4d-c732-b4d5d6d287d5"
      },
      "execution_count": 11,
      "outputs": [
        {
          "output_type": "stream",
          "name": "stdout",
          "text": [
            "🤖 Creating AI agent with Google ADK...\n",
            "✅ AI agent created successfully!\n",
            "   🤖 Agent Name: neo4j_database_agent\n",
            "   🧠 Model: gemini-2.5-flash\n",
            "   🛠️  Tools: 2 database tools\n",
            "   📋 Capabilities:\n",
            "      - Natural language to Cypher translation\n",
            "      - Automatic schema discovery\n",
            "      - Read-only database querying\n",
            "      - Human-readable result formatting\n"
          ]
        }
      ]
    },
    {
      "cell_type": "markdown",
      "metadata": {
        "id": "step2_test_local"
      },
      "source": [
        "## Step 2.5: Test Agent Locally\n",
        "\n",
        "**What this does**: Tests your AI agent locally before deploying to the cloud. This helps catch any issues early.\n",
        "\n",
        "**Test process**:\n",
        "1. Wraps agent in ADK App for testing\n",
        "2. Sends a simple query to discover schema\n",
        "3. Shows real-time interaction steps\n",
        "4. Verifies database connectivity\n",
        "\n",
        "**What to expect**: You'll see the agent's \"thinking\" process as it discovers your database structure and responds to your question."
      ]
    },
    {
      "cell_type": "code",
      "execution_count": 12,
      "metadata": {
        "id": "test_local",
        "colab": {
          "base_uri": "https://localhost:8080/"
        },
        "outputId": "a6c54a8f-0a33-4696-91ba-65ad40ea06ae"
      },
      "outputs": [
        {
          "output_type": "stream",
          "name": "stdout",
          "text": [
            "🧪 Testing agent locally...\n",
            "   This verifies your agent works before cloud deployment.\n",
            "\n",
            "📦 Wrapping agent in ADK App...\n",
            "✅ Agent wrapped successfully.\n",
            "\n",
            "❓ Test Question: 'List all subcriptions with their Mrr sort by product with grand total'\n",
            "\n",
            "🔄 Agent Response (streaming):\n",
            "--------------------------------------------------\n",
            "🔧 Agent is calling: get_neo4j_schema\n",
            "🔧 Agent is calling: execute_cypher_query\n",
            "🔧 Agent is calling: execute_cypher_query\n",
            "Here are the subscriptions with their MRR, sorted by product:\n",
            "\n",
            "| Product           | MRR     |\n",
            "|-------------------|---------|\n",
            "| Basic Plan        | 99.99   |\n",
            "| Enterprise Plan   | 999.99  |\n",
            "| Premium Plan      | 299.99  |\n",
            "\n",
            "🔧 Agent is calling: execute_cypher_query\n",
            "The grand total MRR for all subscriptions is 1399.97.\n",
            "--------------------------------------------------\n",
            "✅ Local test successful!\n",
            "   ✓ Agent connected to database\n",
            "   ✓ Schema discovery working\n",
            "   ✓ Response generation working\n",
            "\n",
            "🚀 Ready for deployment!\n"
          ]
        }
      ],
      "source": [
        "print(\"🧪 Testing agent locally...\")\n",
        "print(\"   This verifies your agent works before cloud deployment.\")\n",
        "\n",
        "# Suppress expected warnings from function calls during testing\n",
        "import warnings\n",
        "import logging\n",
        "warnings.filterwarnings(\"ignore\", message=\"Warning: there are non-text parts in the response\")\n",
        "logging.getLogger(\"google_genai.types\").setLevel(logging.ERROR)\n",
        "\n",
        "try:\n",
        "    # Wrap the agent in an ADK App for testing\n",
        "    print(\"\\n📦 Wrapping agent in ADK App...\")\n",
        "    test_app = reasoning_engines.AdkApp(agent=neo4j_agent, enable_tracing=True)\n",
        "    print(\"✅ Agent wrapped successfully.\")\n",
        "\n",
        "    # Test with a simple query\n",
        "    test_question = \"List all subcriptions with their Mrr sort by product with grand total\"\n",
        "    print(f\"\\n❓ Test Question: '{test_question}'\")\n",
        "    print(\"\\n🔄 Agent Response (streaming):\")\n",
        "    print(\"-\" * 50)\n",
        "\n",
        "    # Stream the response to see real-time interaction\n",
        "    response_parts = []\n",
        "    for event in test_app.stream_query(\n",
        "        user_id=\"local_test_user\",\n",
        "        message=test_question,\n",
        "    ):\n",
        "        # Check if this is a text response (final answer)\n",
        "        if 'content' in event and 'parts' in event['content']:\n",
        "            for part in event['content']['parts']:\n",
        "                if 'text' in part:\n",
        "                    text_content = part['text']\n",
        "                    print(text_content)\n",
        "                    response_parts.append(text_content)\n",
        "                elif 'function_call' in part:\n",
        "                    function_name = part['function_call']['name']\n",
        "                    print(f\"🔧 Agent is calling: {function_name}\")\n",
        "\n",
        "    print(\"-\" * 50)\n",
        "\n",
        "    if response_parts:\n",
        "        print(\"✅ Local test successful!\")\n",
        "        print(\"   ✓ Agent connected to database\")\n",
        "        print(\"   ✓ Schema discovery working\")\n",
        "        print(\"   ✓ Response generation working\")\n",
        "        print(\"\\n🚀 Ready for deployment!\")\n",
        "    else:\n",
        "        print(\"⚠️  Local test completed but no text response received.\")\n",
        "        print(\"   This might be normal - check the function calls above.\")\n",
        "\n",
        "except Exception as e:\n",
        "    print(f\"❌ Local test failed: {e}\")\n",
        "    print(\"\\n🔧 Troubleshooting:\")\n",
        "    print(\"   1. Check your Neo4j credentials are correct\")\n",
        "    print(\"   2. Verify your Neo4j database is accessible\")\n",
        "    print(\"   3. Ensure your Neo4j instance is running\")\n",
        "    print(\"   4. Check network connectivity to Neo4j\")\n",
        "    raise"
      ]
    },
    {
      "cell_type": "markdown",
      "metadata": {
        "id": "phase3_title"
      },
      "source": [
        "# 🎯 Phase 3: Deployment Preparation\n",
        "\n",
        "Now that your agent works locally, let's prepare it for cloud deployment."
      ]
    },
    {
      "cell_type": "markdown",
      "metadata": {
        "id": "step3_prepare"
      },
      "source": [
        "## Step 3.1: Prepare Deployment Configuration\n",
        "\n",
        "**What this does**: Sets up the configuration needed for cloud deployment, including environment variables and deployment settings.\n",
        "\n",
        "**Deployment requirements**:\n",
        "- Environment variables for database connection\n",
        "- Python package requirements\n",
        "- Resource specifications\n",
        "- Security configurations"
      ]
    },
    {
      "cell_type": "code",
      "execution_count": 13,
      "metadata": {
        "id": "prepare_deployment",
        "colab": {
          "base_uri": "https://localhost:8080/"
        },
        "outputId": "deb08e48-623f-4939-cdfb-a247bba5891a"
      },
      "outputs": [
        {
          "output_type": "stream",
          "name": "stdout",
          "text": [
            "⚙️  Preparing deployment configuration...\n",
            "✅ Deployment configuration prepared!\n",
            "   🔐 Environment variables: 4 configured\n",
            "   📦 Python requirements: 2 packages\n",
            "   📝 Description: Ready\n",
            "   🏷️  Display name: agent_neo4j_v5\n",
            "\n",
            "🔍 Deployment readiness check:\n",
            "   ✅ Google Cloud project\n",
            "   ✅ Staging bucket\n",
            "   ✅ Neo4j URI\n",
            "   ✅ Neo4j password\n",
            "   ✅ Agent name\n",
            "\n",
            "🎉 All deployment checks passed! Ready to deploy.\n"
          ]
        }
      ],
      "source": [
        "print(\"⚙️  Preparing deployment configuration...\")\n",
        "\n",
        "# Environment variables that will be set in the cloud deployment\n",
        "deployment_env_vars = {\n",
        "    \"NEO4J_URI\": NEO4J_URI,\n",
        "    \"NEO4J_USERNAME\": NEO4J_USERNAME,\n",
        "    \"NEO4J_PASSWORD\": NEO4J_PASSWORD,\n",
        "    \"NEO4J_DATABASE\": NEO4J_DATABASE,\n",
        "}\n",
        "\n",
        "# Python packages required for the deployed agent\n",
        "deployment_requirements = [\n",
        "    \"google-cloud-aiplatform[adk,agent_engines]>=1.56.0\",  # Google AI Platform with ADK\n",
        "    \"neo4j>=5.15.0\",                                        # Neo4j Python driver\n",
        "]\n",
        "\n",
        "# Agent description for the cloud console\n",
        "deployment_description = (\n",
        "    f\"Intelligent Neo4j database assistant created from template. \"\n",
        "    f\"Converts natural language questions into Cypher queries and provides \"\n",
        "    f\"human-readable results. Connected to: {NEO4J_URI.split('@')[1] if '@' in NEO4J_URI else NEO4J_URI}\"\n",
        ")\n",
        "\n",
        "print(\"✅ Deployment configuration prepared!\")\n",
        "print(f\"   🔐 Environment variables: {len(deployment_env_vars)} configured\")\n",
        "print(f\"   📦 Python requirements: {len(deployment_requirements)} packages\")\n",
        "print(f\"   📝 Description: Ready\")\n",
        "print(f\"   🏷️  Display name: {AGENT_DISPLAY_NAME}\")\n",
        "\n",
        "# Validate deployment readiness\n",
        "print(\"\\n🔍 Deployment readiness check:\")\n",
        "checks = [\n",
        "    (\"Google Cloud project\", PROJECT_ID and \"your-\" not in PROJECT_ID),\n",
        "    (\"Staging bucket\", STAGING_BUCKET and \"your-\" not in STAGING_BUCKET),\n",
        "    (\"Neo4j URI\", NEO4J_URI and \"your-\" not in NEO4J_URI),\n",
        "    (\"Neo4j password\", NEO4J_PASSWORD and \"your-\" not in NEO4J_PASSWORD),\n",
        "    (\"Agent name\", AGENT_DISPLAY_NAME and \"my-\" not in AGENT_DISPLAY_NAME),\n",
        "]\n",
        "\n",
        "all_ready = True\n",
        "for check_name, check_result in checks:\n",
        "    status = \"✅\" if check_result else \"❌\"\n",
        "    print(f\"   {status} {check_name}\")\n",
        "    if not check_result:\n",
        "        all_ready = False\n",
        "\n",
        "if all_ready:\n",
        "    print(\"\\n🎉 All deployment checks passed! Ready to deploy.\")\n",
        "else:\n",
        "    print(\"\\n⚠️  Some deployment checks failed. Please fix the issues above before deploying.\")"
      ]
    },
    {
      "cell_type": "markdown",
      "metadata": {
        "id": "phase4_title"
      },
      "source": [
        "# ☁️ Phase 4: Cloud Deployment\n",
        "\n",
        "Time to deploy your agent to Google Cloud so others can use it!"
      ]
    },
    {
      "cell_type": "markdown",
      "metadata": {
        "id": "step4_deploy"
      },
      "source": [
        "## Step 4.1: Deploy to Vertex AI Agent Engine\n",
        "\n",
        "**What this does**: Deploys your agent to Google Cloud's Agent Engine, making it available as a cloud service.\n",
        "\n",
        "**Deployment process**:\n",
        "1. Wraps your agent in a deployable ADK App\n",
        "2. Runs a final local test\n",
        "3. Uploads code and dependencies to Google Cloud\n",
        "4. Creates the agent service\n",
        "5. Provides access URLs\n",
        "\n",
        "**Time**: This can take 5-15 minutes. Please be patient!\n",
        "\n",
        "**What you'll get**: A cloud-hosted agent that your team can access via API or Google Cloud Console."
      ]
    },
    {
      "cell_type": "code",
      "execution_count": 14,
      "metadata": {
        "id": "deploy_agent",
        "colab": {
          "base_uri": "https://localhost:8080/"
        },
        "outputId": "57d62c07-704f-4027-882d-88d9ad6e37bf"
      },
      "outputs": [
        {
          "output_type": "stream",
          "name": "stdout",
          "text": [
            "🚀 Starting cloud deployment...\n",
            "   📋 Agent: agent_neo4j_v5\n",
            "   🌍 Region: europe-west4\n",
            "   ⏱️  Estimated time: 5-15 minutes\n",
            "   ☕ Perfect time for a coffee break!\n",
            "\n",
            "📦 Step 1: Wrapping agent in deployable ADK App...\n",
            "✅ Agent wrapped successfully.\n",
            "\n",
            "🧪 Step 2: Running final local test...\n"
          ]
        },
        {
          "output_type": "stream",
          "name": "stderr",
          "text": [
            "INFO:vertexai.agent_engines:Identified the following requirements: {'pydantic': '2.11.7', 'cloudpickle': '3.1.1', 'google-cloud-aiplatform': '1.98.0'}\n",
            "WARNING:vertexai.agent_engines:The following requirements are missing: {'pydantic', 'cloudpickle'}\n",
            "INFO:vertexai.agent_engines:The following requirements are appended: {'pydantic==2.11.7', 'cloudpickle==3.1.1'}\n",
            "INFO:vertexai.agent_engines:The final list of requirements: ['google-cloud-aiplatform[adk,agent_engines]>=1.56.0', 'neo4j>=5.15.0', 'pydantic==2.11.7', 'cloudpickle==3.1.1']\n"
          ]
        },
        {
          "output_type": "stream",
          "name": "stdout",
          "text": [
            "✅ Final test completed (3 events).\n",
            "\n",
            "☁️ Step 3: Deploying to Vertex AI Agent Engine...\n",
            "   📤 Uploading code and dependencies...\n",
            "   🔧 Creating agent service...\n",
            "   ⚙️  Configuring environment...\n"
          ]
        },
        {
          "output_type": "stream",
          "name": "stderr",
          "text": [
            "INFO:vertexai.agent_engines:Using bucket vertex_ai_agent_engine_test_disco\n",
            "INFO:vertexai.agent_engines:Wrote to gs://vertex_ai_agent_engine_test_disco/agent_engine/agent_engine.pkl\n",
            "INFO:vertexai.agent_engines:Writing to gs://vertex_ai_agent_engine_test_disco/agent_engine/requirements.txt\n",
            "INFO:vertexai.agent_engines:Creating in-memory tarfile of extra_packages\n",
            "INFO:vertexai.agent_engines:Writing to gs://vertex_ai_agent_engine_test_disco/agent_engine/dependencies.tar.gz\n",
            "INFO:vertexai.agent_engines:Creating AgentEngine\n",
            "INFO:vertexai.agent_engines:Create AgentEngine backing LRO: projects/881765721010/locations/europe-west4/reasoningEngines/7024208043814420480/operations/4445648904955887616\n",
            "INFO:vertexai.agent_engines:View progress and logs at https://console.cloud.google.com/logs/query?project=881765721010\n",
            "INFO:vertexai.agent_engines:AgentEngine created. Resource name: projects/881765721010/locations/europe-west4/reasoningEngines/7024208043814420480\n",
            "INFO:vertexai.agent_engines:To use this AgentEngine in another session:\n",
            "INFO:vertexai.agent_engines:agent_engine = vertexai.agent_engines.get('projects/881765721010/locations/europe-west4/reasoningEngines/7024208043814420480')\n"
          ]
        },
        {
          "output_type": "stream",
          "name": "stdout",
          "text": [
            "\n",
            "🎉 DEPLOYMENT SUCCESSFUL! 🎉\n",
            "\n",
            "📋 Deployment Details:\n",
            "   🤖 Agent Name: agent_neo4j_v5\n",
            "   🆔 Resource ID: projects/881765721010/locations/europe-west4/reasoningEngines/7024208043814420480\n",
            "   🌍 Region: europe-west4\n",
            "   📊 Model: gemini-2.5-flash\n",
            "\n",
            "🔗 Access Your Agent:\n",
            "   📱 Google Cloud Console: https://console.cloud.google.com/vertex-ai?project=881765721010\n",
            "   🔍 Navigate to: Vertex AI → Agent Builder → Your Agent\n",
            "\n",
            "✨ Your agent is now live and ready to use!\n"
          ]
        }
      ],
      "source": [
        "print(\"🚀 Starting cloud deployment...\")\n",
        "print(f\"   📋 Agent: {AGENT_DISPLAY_NAME}\")\n",
        "print(f\"   🌍 Region: {LOCATION}\")\n",
        "print(f\"   ⏱️  Estimated time: 5-15 minutes\")\n",
        "print(\"   ☕ Perfect time for a coffee break!\")\n",
        "\n",
        "def deploy_neo4j_agent():\n",
        "    \"\"\"Deploy the Neo4j agent to Vertex AI Agent Engine.\"\"\"\n",
        "    try:\n",
        "        print(\"\\n📦 Step 1: Wrapping agent in deployable ADK App...\")\n",
        "        deployable_app = reasoning_engines.AdkApp(agent=neo4j_agent, enable_tracing=True)\n",
        "        print(\"✅ Agent wrapped successfully.\")\n",
        "\n",
        "        print(\"\\n🧪 Step 2: Running final local test...\")\n",
        "        test_events = list(deployable_app.stream_query(\n",
        "            user_id=\"deployment_test_user\",\n",
        "            message=\"Test connection to database\",\n",
        "        ))\n",
        "        print(f\"✅ Final test completed ({len(test_events)} events).\")\n",
        "\n",
        "        print(\"\\n☁️ Step 3: Deploying to Vertex AI Agent Engine...\")\n",
        "        print(\"   📤 Uploading code and dependencies...\")\n",
        "        print(\"   🔧 Creating agent service...\")\n",
        "        print(\"   ⚙️  Configuring environment...\")\n",
        "\n",
        "        # Deploy to Agent Engine\n",
        "        remote_agent = agent_engines.create(\n",
        "            deployable_app,\n",
        "            display_name=AGENT_DISPLAY_NAME,\n",
        "            description=deployment_description,\n",
        "            requirements=deployment_requirements,\n",
        "            env_vars=deployment_env_vars\n",
        "        )\n",
        "\n",
        "        print(\"\\n🎉 DEPLOYMENT SUCCESSFUL! 🎉\")\n",
        "        print(\"\\n📋 Deployment Details:\")\n",
        "        print(f\"   🤖 Agent Name: {AGENT_DISPLAY_NAME}\")\n",
        "        print(f\"   🆔 Resource ID: {remote_agent.resource_name}\")\n",
        "        print(f\"   🌍 Region: {LOCATION}\")\n",
        "        print(f\"   📊 Model: {MODEL_NAME}\")\n",
        "\n",
        "        print(\"\\n🔗 Access Your Agent:\")\n",
        "        print(f\"   📱 Google Cloud Console: https://console.cloud.google.com/vertex-ai?project={PROJECT_ID}\")\n",
        "        print(\"   🔍 Navigate to: Vertex AI → Agent Builder → Your Agent\")\n",
        "\n",
        "        print(\"\\n✨ Your agent is now live and ready to use!\")\n",
        "\n",
        "        return remote_agent\n",
        "\n",
        "    except Exception as e:\n",
        "        print(f\"\\n❌ DEPLOYMENT FAILED\")\n",
        "        print(f\"   Error: {str(e)}\")\n",
        "        print(\"\\n🔧 Troubleshooting Steps:\")\n",
        "        print(\"   1. Verify the Vertex AI API is enabled in your project\")\n",
        "        print(\"   2. Check Agent Builder API is enabled\")\n",
        "        print(\"   3. Ensure your service account has necessary permissions\")\n",
        "        print(\"   4. Verify your staging bucket is accessible\")\n",
        "        print(\"   5. Check quota limits in your project\")\n",
        "        print(\"\\n📖 For more help, check the Google Cloud logs:\")\n",
        "        print(f\"   https://console.cloud.google.com/logs/query?project={PROJECT_ID}\")\n",
        "        raise\n",
        "\n",
        "# Run the deployment\n",
        "deployed_agent = deploy_neo4j_agent()"
      ]
    },
    {
      "cell_type": "markdown",
      "metadata": {
        "id": "step4_test_deployed"
      },
      "source": [
        "## Step 4.2: Test Deployed Agent\n",
        "\n",
        "**What this does**: Tests your deployed agent in the cloud to ensure it works correctly.\n",
        "\n",
        "**Test process**:\n",
        "1. Connects to your deployed agent\n",
        "2. Sends a test query\n",
        "3. Streams the real-time response\n",
        "4. Verifies cloud functionality\n",
        "\n",
        "**Success criteria**: Agent responds with database information, showing it can connect to both Google Cloud and your Neo4j database."
      ]
    },
    {
      "cell_type": "code",
      "execution_count": 15,
      "metadata": {
        "id": "test_deployed",
        "colab": {
          "base_uri": "https://localhost:8080/"
        },
        "outputId": "78571363-dd0e-470e-cff0-f80301a6448d"
      },
      "outputs": [
        {
          "output_type": "stream",
          "name": "stdout",
          "text": [
            "🧪 Testing deployed agent...\n",
            "   🆔 Agent Resource: projects/881765721010/locations/europe-west4/reasoningEngines/7024208043814420480\n",
            "\n",
            "🔗 Connecting to deployed agent...\n",
            "✅ Connected successfully!\n",
            "\n",
            "📝 Test 1: Show me a summary of what data is in this database\n",
            "------------------------------------------------------------\n",
            "🔧 Calling: get_neo4j_schema\n",
            "This Neo4j database contains the following types of data:\n",
            "\n",
            "**Nodes (Entities):**\n",
            "*   **SubscriptionEvent:** Represents events related to subscriptions.\n",
            "*   **Payment:** Stores payment information.\n",
            "*   **Invoice:** Represents invoices issued.\n",
            "*   **User:** Contains information about users.\n",
            "*   **Customer:** Details about customers.\n",
            "*   **CreditNote:** Represents credit notes.\n",
            "*   **Service:** Information about services offered.\n",
            "*   **Subscription:** Details about customer subscriptions.\n",
            "*   **Case:** Represents customer support cases.\n",
            "\n",
            "**Relationships:**\n",
            "*   A **Customer** `HAS_INVOICE` an **Invoice**.\n",
            "*   A **CreditNote** is `ISSUED_FOR_CUSTOMER` a **Customer**.\n",
            "*   A **CreditNote** `CREDITS_INVOICE` an **Invoice**.\n",
            "*   A **Case** `RESULTED_IN_CREDIT_NOTE` a **CreditNote**.\n",
            "*   A **Subscription** is `FOR_SERVICE` a **Service**.\n",
            "*   A **User** `HANDLED_CASE` a **Case**.\n",
            "*   A **Subscription** `HAS_EVENT` a **SubscriptionEvent**.\n",
            "*   An **Invoice** `APPLIES_TO_SUBSCRIPTION` a **Subscription**.\n",
            "*   A **Customer** `RAISED_CASE` a **Case**.\n",
            "*   A **Customer** `HAS_SUBSCRIPTION` a **Subscription**.\n",
            "*   An **Invoice** `HAS_PAYMENT` a **Payment**.\n",
            "\n",
            "✅ Test 1 completed successfully!\n",
            "\n",
            "📝 Test 2: List all the types of nodes in the database\n",
            "------------------------------------------------------------\n",
            "🔧 Calling: get_neo4j_schema\n",
            "The types of nodes in the database are:\n",
            "*   SubscriptionEvent\n",
            "*   Payment\n",
            "*   Invoice\n",
            "*   User\n",
            "*   Customer\n",
            "*   CreditNote\n",
            "*   Service\n",
            "*   Subscription\n",
            "*   Case\n",
            "\n",
            "✅ Test 2 completed successfully!\n",
            "\n",
            "📝 Test 3: Give me a sample of data from the most interesting node type\n",
            "------------------------------------------------------------\n",
            "🔧 Calling: get_neo4j_schema\n",
            "🔧 Calling: execute_cypher_query\n",
            "Here's a sample of data from the `Subscription` node:\n",
            "\n",
            "```\n",
            "[\n",
            "  {\n",
            "    \"arr\": 1199.88,\n",
            "    \"endDate\": \"2024-01-31\",\n",
            "    \"renewalDate\": \"2024-01-31\",\n",
            "    \"mrr\": 99.99,\n",
            "    \"subscriptionID\": \"SUB001\",\n",
            "    \"productName\": \"Basic Plan\",\n",
            "    \"startDate\": \"2023-02-01\",\n",
            "    \"status\": \"active\"\n",
            "  },\n",
            "  {\n",
            "    \"arr\": 3599.88,\n",
            "    \"endDate\": \"2024-03-31\",\n",
            "    \"renewalDate\": \"2024-03-31\",\n",
            "    \"mrr\": 299.99,\n",
            "    \"subscriptionID\": \"SUB002\",\n",
            "    \"productName\": \"Premium Plan\",\n",
            "    \"startDate\": \"2023-04-01\",\n",
            "    \"status\": \"active\"\n",
            "  },\n",
            "  {\n",
            "    \"arr\": 11999.88,\n",
            "    \"endDate\": \"2023-12-31\",\n",
            "    \"renewalDate\": \"2023-12-31\",\n",
            "    \"mrr\": 999.99,\n",
            "    \"subscriptionID\": \"SUB003\",\n",
            "    \"productName\": \"Enterprise Plan\",\n",
            "    \"startDate\": \"2023-03-01\",\n",
            "    \"status\": \"canceled\"\n",
            "  }\n",
            "]\n",
            "```\n",
            "\n",
            "✅ Test 3 completed successfully!\n",
            "\n",
            "============================================================\n",
            "🎉 DEPLOYMENT AND TESTING COMPLETE! 🎉\n",
            "\n",
            "✅ Your Neo4j AI Agent is now live and functional!\n",
            "\n",
            "📋 Summary:\n",
            "   🤖 Agent Name: agent_neo4j_v5\n",
            "   🆔 Resource ID: projects/881765721010/locations/europe-west4/reasoningEngines/7024208043814420480\n",
            "   🗄️  Database: Connected to Neo4j\n",
            "   🧠 Model: gemini-2.5-flash\n",
            "   🌍 Region: europe-west4\n",
            "\n",
            "🚀 Next Steps:\n",
            "   1. Share the Google Cloud Console link with your team\n",
            "   2. Test with your own questions via the console\n",
            "   3. Integrate via API if needed\n",
            "   4. Monitor usage and performance\n",
            "\n",
            "🔗 Quick Access:\n",
            "   📱 Console: https://console.cloud.google.com/vertex-ai?project=881765721010\n",
            "   📖 Documentation: https://cloud.google.com/vertex-ai/docs\n"
          ]
        }
      ],
      "source": [
        "print(\"🧪 Testing deployed agent...\")\n",
        "\n",
        "# Get the deployed agent resource name\n",
        "if 'deployed_agent' in locals() and deployed_agent:\n",
        "    agent_resource_name = deployed_agent.resource_name\n",
        "    print(f\"   🆔 Agent Resource: {agent_resource_name}\")\n",
        "else:\n",
        "    print(\"❌ No deployed agent found. Please run the deployment step first.\")\n",
        "    print(\"   If you have a previously deployed agent, enter its resource name below:\")\n",
        "    # You can manually set the resource name here if needed\n",
        "    # agent_resource_name = \"projects/YOUR_PROJECT/locations/YOUR_REGION/reasoningEngines/YOUR_ID\"\n",
        "    raise SystemExit(\"Deployed agent not found.\")\n",
        "\n",
        "try:\n",
        "    print(\"\\n🔗 Connecting to deployed agent...\")\n",
        "    remote_agent = agent_engines.get(agent_resource_name)\n",
        "    print(\"✅ Connected successfully!\")\n",
        "\n",
        "    # Test with a comprehensive query\n",
        "    test_questions = [\n",
        "        \"Show me a summary of what data is in this database\",\n",
        "        \"List all the types of nodes in the database\",\n",
        "        \"Give me a sample of data from the most interesting node type\"\n",
        "    ]\n",
        "\n",
        "    for i, question in enumerate(test_questions, 1):\n",
        "        print(f\"\\n📝 Test {i}: {question}\")\n",
        "        print(\"-\" * 60)\n",
        "\n",
        "        try:\n",
        "            # Stream the response\n",
        "            response_received = False\n",
        "            for event in remote_agent.stream_query(\n",
        "                user_id=f\"test_user_{i}\",\n",
        "                message=question,\n",
        "            ):\n",
        "                # Check for text responses\n",
        "                if ('content' in event and\n",
        "                    'parts' in event['content'] and\n",
        "                    event['content']['parts']):\n",
        "\n",
        "                    for part in event['content']['parts']:\n",
        "                        if 'text' in part:\n",
        "                            print(part['text'])\n",
        "                            response_received = True\n",
        "                        elif 'function_call' in part:\n",
        "                            function_name = part['function_call']['name']\n",
        "                            print(f\"🔧 Calling: {function_name}\")\n",
        "\n",
        "            if response_received:\n",
        "                print(f\"\\n✅ Test {i} completed successfully!\")\n",
        "            else:\n",
        "                print(f\"\\n⚠️  Test {i} completed but no text response received.\")\n",
        "\n",
        "        except Exception as e:\n",
        "            print(f\"\\n❌ Test {i} failed: {e}\")\n",
        "\n",
        "    print(\"\\n\" + \"=\" * 60)\n",
        "    print(\"🎉 DEPLOYMENT AND TESTING COMPLETE! 🎉\")\n",
        "    print(\"\\n✅ Your Neo4j AI Agent is now live and functional!\")\n",
        "\n",
        "    print(\"\\n📋 Summary:\")\n",
        "    print(f\"   🤖 Agent Name: {AGENT_DISPLAY_NAME}\")\n",
        "    print(f\"   🆔 Resource ID: {agent_resource_name}\")\n",
        "    print(f\"   🗄️  Database: Connected to Neo4j\")\n",
        "    print(f\"   🧠 Model: {MODEL_NAME}\")\n",
        "    print(f\"   🌍 Region: {LOCATION}\")\n",
        "\n",
        "    print(\"\\n🚀 Next Steps:\")\n",
        "    print(\"   1. Share the Google Cloud Console link with your team\")\n",
        "    print(\"   2. Test with your own questions via the console\")\n",
        "    print(\"   3. Integrate via API if needed\")\n",
        "    print(\"   4. Monitor usage and performance\")\n",
        "\n",
        "    print(\"\\n🔗 Quick Access:\")\n",
        "    print(f\"   📱 Console: https://console.cloud.google.com/vertex-ai?project={PROJECT_ID}\")\n",
        "    print(\"   📖 Documentation: https://cloud.google.com/vertex-ai/docs\")\n",
        "\n",
        "except Exception as e:\n",
        "    print(f\"\\n❌ Testing failed: {e}\")\n",
        "    print(\"\\n🔧 Troubleshooting:\")\n",
        "    print(\"   1. Wait a few minutes for deployment to fully complete\")\n",
        "    print(\"   2. Check the Google Cloud Console for any errors\")\n",
        "    print(\"   3. Verify your Neo4j database is still accessible\")\n",
        "    print(\"   4. Check agent logs in Google Cloud Logging\")"
      ]
    },
    {
      "cell_type": "markdown",
      "source": [
        "# 🚀 Phase 5: Register Agent in Agentspace\n",
        "What this does: This phase takes your deployed agent and registers it with\n",
        "Agentspace, making it discoverable and usable within your organization's\n",
        "agent gallery.\n",
        "\n",
        " Prerequisites:\n",
        "   1. The agent must be successfully deployed in Phase 4.\n",
        "   2. The 'agent_registration_tool' files you provided, especially\n",
        "      'as_agent_registry_service.py', must be uploaded to your notebook\n",
        "      environment so they can be imported.\n"
      ],
      "metadata": {
        "id": "-ErFmwTDPSIw"
      }
    },
    {
      "cell_type": "markdown",
      "source": [
        "### --- Step 5.1: Install Libraries ---\n"
      ],
      "metadata": {
        "id": "Z4NJEpIQP8gw"
      }
    },
    {
      "cell_type": "code",
      "source": [
        "import os\n",
        "import json\n",
        "import importlib\n",
        "\n",
        "print(\"🚀 Starting Phase 5: Register Agent in Agentspace\")"
      ],
      "metadata": {
        "colab": {
          "base_uri": "https://localhost:8080/"
        },
        "id": "Sz4z7f7nP6Yt",
        "outputId": "b0306638-f716-4c0e-9b9a-cc8865743041"
      },
      "execution_count": 16,
      "outputs": [
        {
          "output_type": "stream",
          "name": "stdout",
          "text": [
            "🚀 Starting Phase 5: Register Agent in Agentspace\n"
          ]
        }
      ]
    },
    {
      "cell_type": "markdown",
      "source": [
        "### --- Step 5.2: Import Registration Service ---\n",
        "We will dynamically import the function from the script you provided.\n",
        "\n"
      ],
      "metadata": {
        "id": "5DIt1Mat0JtT"
      }
    },
    {
      "cell_type": "code",
      "source": [
        "print(\"\\n⚙️  Configuring Agentspace registration parameters...\")\n",
        "\n",
        "# This should be the 'App ID' for your Agentspace application.\n",
        "# It tells the registration service where to list your agent.\n",
        "AGENTSPACE_APP_ID = input(\"🔵 Enter your Agentspace App ID: \").strip()\n",
        "while not AGENTSPACE_APP_ID:\n",
        "    print(\"   ❌ Agentspace App ID is required!\")\n",
        "    AGENTSPACE_APP_ID = input(\"🔵 Enter your Agentspace App ID: \").strip()\n",
        "\n",
        "# The ADK Deployment ID is the unique identifier for your agent in Vertex AI.\n",
        "# We extract it from the 'deployed_agent' object created in Phase 4.\n",
        "try:\n",
        "    if 'deployed_agent' in locals() and deployed_agent:\n",
        "        # The resource name is like: projects/PROJECT_ID/locations/LOCATION/reasoningEngines/ADK_DEPLOYMENT_ID\n",
        "        # We need to get the last part.\n",
        "        adk_deployment_id = deployed_agent.resource_name.split('/')[-1]\n",
        "        print(f\"   - Extracted ADK Deployment ID: {adk_deployment_id}\")\n",
        "    else:\n",
        "        print(\"❌ Could not find 'deployed_agent'. Please ensure Phase 4 ran successfully.\")\n",
        "        raise NameError(\"deployed_agent not defined\")\n",
        "except Exception as e:\n",
        "    print(f\"   ❌ Failed to get ADK Deployment ID: {e}\")\n",
        "    print(\"      Please ensure the `deployed_agent` variable from Phase 4 is available.\")\n",
        "    raise\n",
        "\n",
        "# The 'tool_description' is crucial. It's the detailed instruction that\n",
        "# tells the master agent (LLM) when to route a user's request to THIS agent.\n",
        "# We will reuse the detailed agent instruction from Phase 2.\n",
        "tool_description_for_registration = neo4j_agent.instruction\n",
        "print(\"   - Using agent instruction from Phase 2 as the tool description.\")\n",
        "\n",
        "# The user-facing description for the agent in the Agentspace UI.\n",
        "# We will reuse the deployment description from Phase 3.\n",
        "description_for_registration = deployment_description\n",
        "print(\"   - Using deployment description from Phase 3 for UI.\")\n",
        "\n",
        "# Optional: You can add a public URL to an icon for your agent.\n",
        "icon_uri_for_registration = input(\"🖼️ Enter Icon URI (optional, press Enter to skip): \").strip()\n",
        "\n",
        "print(\"✅ Configuration complete.\")"
      ],
      "metadata": {
        "id": "DHY5iRMvQN8B",
        "colab": {
          "base_uri": "https://localhost:8080/"
        },
        "outputId": "9bd17079-fa35-4b1a-ebe7-111b7af266aa"
      },
      "execution_count": 17,
      "outputs": [
        {
          "output_type": "stream",
          "name": "stdout",
          "text": [
            "\n",
            "⚙️  Configuring Agentspace registration parameters...\n",
            "🔵 Enter your Agentspace App ID: innovation-basement_1741551269956\n",
            "   - Extracted ADK Deployment ID: 7024208043814420480\n",
            "   - Using agent instruction from Phase 2 as the tool description.\n",
            "   - Using deployment description from Phase 3 for UI.\n",
            "🖼️ Enter Icon URI (optional, press Enter to skip): \n",
            "✅ Configuration complete.\n"
          ]
        }
      ]
    },
    {
      "cell_type": "markdown",
      "source": [
        "### --- Step 5.3: Configure Agentspace Parameters ---\n",
        "Here, we gather all the necessary information for registration."
      ],
      "metadata": {
        "id": "8K9ejUHhQKjV"
      }
    },
    {
      "cell_type": "code",
      "source": [
        "import importlib\n",
        "import sys\n",
        "import os\n",
        "\n",
        "# Create the service file directly using Python\n",
        "service_code = \"\"\"\n",
        "import subprocess\n",
        "import json\n",
        "import logging\n",
        "import google.auth\n",
        "import google.auth.transport.requests\n",
        "\n",
        "# Scopes define the level of access you are requesting.\n",
        "SCOPES = ['https://www.googleapis.com/auth/cloud-platform']\n",
        "\n",
        "def get_access_token():\n",
        "    \\\"\\\"\\\"Gets the access token from the environment.\\\"\\\"\\\"\n",
        "    try:\n",
        "        credentials, project_id = google.auth.default(scopes=SCOPES)\n",
        "        credentials.refresh(google.auth.transport.requests.Request())\n",
        "        return credentials.token\n",
        "    except Exception as e:\n",
        "        print(f\"An error occurred in get_access_token: {e}\")\n",
        "        import traceback\n",
        "        traceback.print_exc()\n",
        "        return None\n",
        "\n",
        "# --- Constants for URL construction ---\n",
        "BASE_API_URL = \"https://{location_prefix}discoveryengine.googleapis.com/v1alpha\"\n",
        "DEFAULT_LOCATION = \"global\"\n",
        "DEFAULT_COLLECTION = \"default_collection\"\n",
        "DEFAULT_ASSISTANT = \"default_assistant\"\n",
        "\n",
        "def _check_required_params(params, required):\n",
        "    missing = [param for param in required if not params.get(param)]\n",
        "    if missing:\n",
        "        raise ValueError(f\"Missing required parameters: {', '.join(missing)}\")\n",
        "\n",
        "def _build_discovery_engine_url(project_id: str, app_id: str, agent_id: str = None, api_location: str = DEFAULT_LOCATION) -> str:\n",
        "    \\\"\\\"\\\"Helper function to construct the Discovery Engine API URL for agents.\\\"\\\"\\\"\n",
        "    location_prefix = \"\"\n",
        "    if api_location != \"global\":\n",
        "        location_prefix = api_location + \"-\"\n",
        "    url = BASE_API_URL.format(location_prefix=location_prefix)\n",
        "    base_path = f\"{url}/projects/{project_id}/locations/{api_location}/collections/{DEFAULT_COLLECTION}/engines/{app_id}/assistants/{DEFAULT_ASSISTANT}/agents\"\n",
        "    if agent_id:\n",
        "        return f\"{base_path}/{agent_id}\"\n",
        "    return base_path\n",
        "\n",
        "def create_agent(project_id, app_id, display_name, description, tool_description, adk_deployment_id, auth_id, icon_uri=None, re_location=\"global\", api_location=\"global\"):\n",
        "    \\\"\\\"\\\"Creates a new agent in the Agent Registry.\\\"\\\"\\\"\n",
        "    _check_required_params(locals(), [\"project_id\", \"app_id\", \"display_name\", \"description\", \"tool_description\", \"adk_deployment_id\"])\n",
        "    access_token = get_access_token()\n",
        "    if not access_token:\n",
        "        logging.error(\"Failed to obtain access token for create_agent.\")\n",
        "        return {\"status_code\": 401, \"stdout\": \"\", \"stderr\": \"Failed to obtain access token.\"}\n",
        "\n",
        "    url = _build_discovery_engine_url(project_id, app_id, api_location=api_location)\n",
        "    data = {\n",
        "        \"displayName\": display_name,\n",
        "        \"description\": description,\n",
        "        \"adk_agent_definition\": {\n",
        "            \"tool_settings\": {\"tool_description\": tool_description},\n",
        "            \"provisioned_reasoning_engine\": {\"reasoning_engine\": f\"projects/{project_id}/locations/{re_location}/reasoningEngines/{adk_deployment_id}\"},\n",
        "            \"authorizations\": [f\"projects/{project_id}/locations/{api_location}/authorizations/{auth_id}\"] if auth_id else [],\n",
        "        }\n",
        "    }\n",
        "    if icon_uri:\n",
        "        data[\"icon\"] = {\"uri\": icon_uri}\n",
        "\n",
        "    command = [\n",
        "        \"curl\", \"-X\", \"POST\", \"-H\", f\"Authorization: Bearer {access_token}\",\n",
        "        \"-H\", \"Content-Type: application/json\", \"-H\", f\"X-Goog-User-Project: {project_id}\",\n",
        "        url, \"-d\", json.dumps(data)\n",
        "    ]\n",
        "    result = subprocess.run(command, capture_output=True, text=True)\n",
        "    response = {\"status_code\": result.returncode, \"stdout\": result.stdout, \"stderr\": result.stderr}\n",
        "    if result.returncode == 0:\n",
        "        try:\n",
        "            response[\"agent\"] = json.loads(result.stdout)\n",
        "        except json.JSONDecodeError:\n",
        "            response[\"error\"] = \"Could not decode JSON response.\"\n",
        "    return response\n",
        "\"\"\"\n",
        "\n",
        "# Write the file\n",
        "with open('as_agent_registry_service.py', 'w') as f:\n",
        "    f.write(service_code)\n",
        "\n",
        "print(\"✅ File 'as_agent_registry_service.py' created successfully!\")\n",
        "\n",
        "# Now import it\n",
        "try:\n",
        "    # Remove from sys.modules if it exists to force reload\n",
        "    if 'as_agent_registry_service' in sys.modules:\n",
        "        del sys.modules['as_agent_registry_service']\n",
        "\n",
        "    import as_agent_registry_service\n",
        "    from as_agent_registry_service import create_agent as register_agent_in_agentspace\n",
        "    print(\"✅ Successfully imported Agentspace registration service.\")\n",
        "except ImportError as e:\n",
        "    print(f\"❌ ERROR: Failed to import: {e}\")\n",
        "    raise"
      ],
      "metadata": {
        "id": "d9Q-3jfvQJQy",
        "colab": {
          "base_uri": "https://localhost:8080/"
        },
        "outputId": "ba8f4526-9eb5-492e-80cc-3c90b18b37c4"
      },
      "execution_count": 19,
      "outputs": [
        {
          "output_type": "stream",
          "name": "stdout",
          "text": [
            "✅ File 'as_agent_registry_service.py' created successfully!\n",
            "✅ Successfully imported Agentspace registration service.\n"
          ]
        }
      ]
    },
    {
      "cell_type": "markdown",
      "source": [
        "### --- Step 5.4: Register the Agent ---\n",
        "Now we call the registration function with all our prepared parameters."
      ],
      "metadata": {
        "id": "KGNLeeYeQYkA"
      }
    },
    {
      "cell_type": "code",
      "source": [
        "print(\"\\n🔄 Registering agent with Agentspace...\")\n",
        "\n",
        "try:\n",
        "    # Call the registration function from your provided script\n",
        "    registration_result = register_agent_in_agentspace(\n",
        "        project_id=PROJECT_ID,\n",
        "        app_id=AGENTSPACE_APP_ID,\n",
        "        display_name=AGENT_DISPLAY_NAME,\n",
        "        description=description_for_registration,\n",
        "        tool_description=tool_description_for_registration,\n",
        "        adk_deployment_id=adk_deployment_id,\n",
        "        auth_id=None,  # Set to your OAuth ID if the agent needs user-level permissions\n",
        "        icon_uri=icon_uri_for_registration if icon_uri_for_registration else None,\n",
        "        re_location=LOCATION, # The location/region of your deployed agent\n",
        "        api_location=\"eu\" # API location set to Europe\n",
        "    )\n",
        "except Exception as e:\n",
        "  print(f\"Error during agent registration: {e}\")"
      ],
      "metadata": {
        "id": "A49WK9ZGQxfp",
        "colab": {
          "base_uri": "https://localhost:8080/"
        },
        "outputId": "2601343c-49b4-43db-d159-3dcafb889998"
      },
      "execution_count": 20,
      "outputs": [
        {
          "output_type": "stream",
          "name": "stdout",
          "text": [
            "\n",
            "🔄 Registering agent with Agentspace...\n"
          ]
        }
      ]
    },
    {
      "cell_type": "markdown",
      "source": [
        "### --- Step 5.5: Display Registration Result ---"
      ],
      "metadata": {
        "id": "eo9ONmbNQ3gC"
      }
    },
    {
      "cell_type": "code",
      "source": [
        "if registration_result:\n",
        "    print(\"\\n🎉 AGENT REGISTRATION ATTEMPT COMPLETE! �\")\n",
        "\n",
        "    # First, try to parse the JSON response.\n",
        "    try:\n",
        "        response_data = json.loads(registration_result.get(\"stdout\", \"{}\"))\n",
        "    except json.JSONDecodeError:\n",
        "        print(\"❌ Registration failed. Could not parse response from server.\")\n",
        "        print(\"   Raw Response:\", registration_result.get(\"stdout\"))\n",
        "        response_data = None\n",
        "\n",
        "    if response_data and \"error\" not in response_data:\n",
        "        # SUCCESS PATH\n",
        "        print(\"✅ Agent was successfully registered in Agentspace.\")\n",
        "        print(\"\\n📋 Registration Details:\")\n",
        "        print(json.dumps(response_data, indent=2))\n",
        "\n",
        "        # Extract the new Agentspace resource name\n",
        "        agent_resource_name = response_data.get(\"name\")\n",
        "        print(f\"\\n✨ Your agent is now available in Agentspace App '{AGENTSPACE_APP_ID}'\")\n",
        "        print(f\"   - Agentspace Resource Name: {agent_resource_name}\")\n",
        "    else:\n",
        "        # FAILURE PATH\n",
        "        print(\"❌ Registration failed.\")\n",
        "        if response_data and \"error\" in response_data:\n",
        "            print(\"\\n📋 API Error Details:\")\n",
        "            print(json.dumps(response_data['error'], indent=2))\n",
        "        else:\n",
        "            print(\"   - Status Code:\", registration_result.get(\"status_code\"))\n",
        "            print(\"   - Raw Error Details:\", registration_result.get(\"stderr\"))\n",
        "\n",
        "        print(\"\\n🔧 Troubleshooting:\")\n",
        "        print(\"   - Verify your Agentspace App ID is correct and exists in the 'eu' location.\")\n",
        "        print(\"   - Ensure you have the 'Discovery Engine Admin' role or 'agents.manage' IAM permission.\")\n",
        "        print(\"   - Check that the Discovery Engine API is enabled for your project.\")"
      ],
      "metadata": {
        "id": "uxR9Vt24Q58_",
        "colab": {
          "base_uri": "https://localhost:8080/"
        },
        "outputId": "34c8f09a-0196-480d-df3c-95b766a09bb9"
      },
      "execution_count": 21,
      "outputs": [
        {
          "output_type": "stream",
          "name": "stdout",
          "text": [
            "\n",
            "🎉 AGENT REGISTRATION ATTEMPT COMPLETE! �\n",
            "✅ Agent was successfully registered in Agentspace.\n",
            "\n",
            "📋 Registration Details:\n",
            "{\n",
            "  \"name\": \"projects/881765721010/locations/eu/collections/default_collection/engines/innovation-basement_1741551269956/assistants/default_assistant/agents/6769061732880912825\",\n",
            "  \"displayName\": \"agent_neo4j_v5\",\n",
            "  \"description\": \"Intelligent Neo4j database assistant created from template. Converts natural language questions into Cypher queries and provides human-readable results. Connected to: neo4j+s://agentspace-c4x9-c86d.endpoints.neo4j.io\",\n",
            "  \"createTime\": \"2025-06-24T19:25:55.228122318Z\",\n",
            "  \"adkAgentDefinition\": {\n",
            "    \"toolSettings\": {\n",
            "      \"toolDescription\": \"You are an expert Neo4j database assistant. Your role is to help users get insights from their Neo4j database using natural language queries.\\n\\nWORKFLOW:\\n1. ALWAYS start by calling `get_neo4j_schema` to understand the database structure\\n2. Analyze the schema to understand nodes, relationships, and properties\\n3. Use `execute_cypher_query` to construct and run appropriate Cypher queries\\n4. Present results in a clear, human-readable format\\n\\nBEST PRACTICES:\\n- Use exact node labels and relationship types from the schema\\n- Be intelligent about property matching - try common variations (mrr/MRR, name/productName, etc.)\\n- Add LIMIT clauses for queries that might return many results (default: 10) but NOT for aggregations\\n- Handle errors gracefully and provide helpful error messages\\n- Format results as tables or lists when appropriate\\n- Make reasonable assumptions about data relationships before asking for clarification\\n- If a property seems related to what the user wants, try it first\\n\\nQUERY CONSTRUCTION:\\n- For financial queries, look for properties like: amount, mrr, arr, value, cost, price\\n- For product queries, look for: name, productName, serviceName, description\\n- For date queries, look for: date, createdDate, startDate, endDate, issueDate\\n- Try the most likely property combinations before asking for clarification\\n\\nSECURITY:\\n- Only use read-only operations (MATCH, RETURN)\\n- Never modify data (no CREATE, MERGE, SET, DELETE)\\n\\nAlways provide comprehensive, accurate responses. Be confident and make intelligent assumptions based on the discovered schema.\"\n",
            "    },\n",
            "    \"provisionedReasoningEngine\": {\n",
            "      \"reasoningEngine\": \"projects/881765721010/locations/europe-west4/reasoningEngines/7024208043814420480\"\n",
            "    }\n",
            "  },\n",
            "  \"state\": \"CONFIGURED\"\n",
            "}\n",
            "\n",
            "✨ Your agent is now available in Agentspace App 'innovation-basement_1741551269956'\n",
            "   - Agentspace Resource Name: projects/881765721010/locations/eu/collections/default_collection/engines/innovation-basement_1741551269956/assistants/default_assistant/agents/6769061732880912825\n"
          ]
        }
      ]
    },
    {
      "cell_type": "markdown",
      "metadata": {
        "id": "conclusion"
      },
      "source": [
        "# 🎊 Congratulations!\n",
        "\n",
        "You've successfully created and deployed a Neo4j AI Agent using Google's Agent Development Kit!\n",
        "\n",
        "## 🌟 What You've Accomplished\n",
        "\n",
        "✅ **Built an intelligent database assistant** that understands natural language  \n",
        "✅ **Deployed to Google Cloud** for team access  \n",
        "✅ **Connected to your Neo4j database** securely  \n",
        "✅ **Created a reusable template** for future projects  \n",
        "\n",
        "\n",
        "\n"
      ]
    },
    {
      "cell_type": "markdown",
      "source": [
        "# Test of deployment and Deletion script\n",
        "\n"
      ],
      "metadata": {
        "id": "z1MAUj09kVlK"
      }
    },
    {
      "cell_type": "code",
      "source": [
        "from vertexai import agent_engines\n",
        "import logging\n",
        "\n",
        "print(\"🚀 Starting Phase 7: Direct Agent Engine Test\")\n",
        "\n",
        "# We use the 'deployed_agent' object from Phase 4.\n",
        "\n",
        "try:\n",
        "    if 'deployed_agent' in locals() and deployed_agent:\n",
        "        agent_resource_name = deployed_agent.resource_name\n",
        "        print(f\"   - Found Agent Engine Resource Name: {agent_resource_name}\")\n",
        "    else:\n",
        "        # If the notebook was restarted, you can manually paste the resource name here\n",
        "        # agent_resource_name = \"projects/test-disco-cm/locations/europe-west4/reasoningEngines/2905666184584101888\"\n",
        "        print(\"❌ Could not find 'deployed_agent' object.\")\n",
        "        print(\"   Please run Phase 4 again, or manually set the 'agent_resource_name'.\")\n",
        "        raise NameError(\"deployed_agent not found\")\n",
        "except Exception as e:\n",
        "    print(f\"   ❌ An error occurred getting the resource name: {e}\")\n",
        "    raise"
      ],
      "metadata": {
        "id": "eUlNbhBqd_fQ"
      },
      "execution_count": null,
      "outputs": []
    },
    {
      "cell_type": "code",
      "source": [
        "print(\"\\n🔄 Attempting to connect directly to the Agent Engine...\")\n",
        "try:\n",
        "    # Get a client for the remote agent\n",
        "    remote_agent_client = agent_engines.get(agent_resource_name)\n",
        "    print(\"✅ Successfully connected to the Agent Engine client.\")\n",
        "\n",
        "    test_question = \"What is the schema of the database?\"\n",
        "    print(f\"\\n❓ Sending test question: '{test_question}'\")\n",
        "\n",
        "   # Use the correct 'stream_query' method and loop through the events\n",
        "    response_received = False\n",
        "    full_response = \"\"\n",
        "    for event in remote_agent_client.stream_query(message=test_question):\n",
        "        if 'content' in event and 'parts' in event['content']:\n",
        "            for part in event['content']['parts']:\n",
        "                if 'text' in part:\n",
        "                    print(part['text'], end=\"\", flush=True)\n",
        "                    full_response += part['text']\n",
        "                    response_received = True\n",
        "                elif 'function_call' in part:\n",
        "                    print(f\"\\n🔧 Agent is calling: {part['function_call']['name']}\\n\")\n",
        "except Exception as e:\n",
        "    print(f\"\\n❌ Error connecting to or querying the Agent Engine: {e}\")\n",
        "\n",
        "if not response_received:\n",
        "    print(\"\\n\\n\\n❌ Did not receive a response from the Agent Engine.\")\n",
        "else:\n",
        "    print(\"\\n\\n\\n✅ Successfully received a response from the Agent Engine.\")"
      ],
      "metadata": {
        "id": "Gu_DankkjnvN"
      },
      "execution_count": null,
      "outputs": []
    },
    {
      "cell_type": "code",
      "source": [
        "from vertexai import agent_engines\n",
        "import logging\n",
        "\n",
        "print(\"🚀 Starting Phase 7: Direct Agent Engine Test\")\n",
        "\n",
        "# We use the 'deployed_agent' object from Phase 4.\n",
        "\n",
        "try:\n",
        "    if 'deployed_agent' in locals() and deployed_agent:\n",
        "        agent_resource_name = deployed_agent.resource_name\n",
        "        print(f\"   - Found Agent Engine Resource Name: {agent_resource_name}\")\n",
        "    else:\n",
        "        # If the notebook was restarted, you can manually paste the resource name here\n",
        "        # agent_resource_name = \"projects/test-disco-cm/locations/europe-west4/reasoningEngines/2905666184584101888\"\n",
        "        print(\"❌ Could not find 'deployed_agent' object.\")\n",
        "        print(\"   Please run Phase 4 again, or manually set the 'agent_resource_name'.\")\n",
        "        raise NameError(\"deployed_agent not found\")\n",
        "\n",
        "    print(\"\\n🔄 Attempting to connect directly to the Agent Engine...\")\n",
        "\n",
        "    # Get a client for the remote agent\n",
        "    remote_agent_client = agent_engines.get(agent_resource_name)\n",
        "    print(\"✅ Successfully connected to the Agent Engine client.\")\n",
        "\n",
        "    test_question = \"What is the schema of the database?\"\n",
        "    print(f\"\\n❓ Sending test question: '{test_question}'\")\n",
        "\n",
        "    # Send the query directly using the correct 'chat' method\n",
        "    response = remote_agent_client.chat(message=test_question)\n",
        "\n",
        "    # This code was previously in ipython-input-55-3830080924.py\n",
        "    print(\"\\n📝 Direct Response from Agent Engine:\")\n",
        "    print(response)\n",
        "    print(\"\\n✅ Direct test completed successfully!\")\n",
        "    print(\"   This indicates the deployed agent is working correctly, and the issue lies\")\n",
        "    print(\"   within the Agentspace service or its connection to the agent.\")\n",
        "\n",
        "except Exception as e:\n",
        "    # This code was previously in ipython-input-55-3830080924.py\n",
        "    print(\"\\n❌ Direct test failed.\")\n",
        "    logging.exception(\"   The following error occurred during the direct test:\")\n",
        "    print(\"\\n🔧 This error means the problem is with the Agent Engine deployment itself,\")\n",
        "    print(\"   not with Agentspace. The error message above should provide clues.\")\n",
        "    print(\"   Common causes include networking (firewalls) or incorrect env variables.\")"
      ],
      "metadata": {
        "id": "fIHx0g8Cj3tJ"
      },
      "execution_count": null,
      "outputs": []
    },
    {
      "cell_type": "markdown",
      "source": [
        "## 🚀 Delete Agent Registration from Agentspace\n",
        "\n",
        "What this does: This script deletes a registered agent from an Agentspace\n",
        "application. This action is irreversible."
      ],
      "metadata": {
        "id": "Syqi-YVdcapm"
      }
    },
    {
      "cell_type": "code",
      "source": [
        "import os\n",
        "import json\n",
        "import importlib\n",
        "\n",
        "print(\"🚀 Starting Phase 6: Delete Agent from Agentspace\")\n",
        "\n",
        "# --- Step 6.1: Create and Import Deletion Service ---\n",
        "# We will create a new file with a dedicated delete function.\n",
        "\n",
        "get_ipython().run_cell_magic('writefile', 'as_agent_deletion_service.py',\n",
        "\"\"\"\n",
        "import subprocess\n",
        "import json\n",
        "import logging\n",
        "import google.auth\n",
        "import google.auth.transport.requests\n",
        "\n",
        "# Scopes define the level of access you are requesting.\n",
        "SCOPES = ['https://www.googleapis.com/auth/cloud-platform']\n",
        "\n",
        "def get_access_token():\n",
        "    \\\"\\\"\\\"Gets the access token from the environment.\\\"\\\"\\\"\n",
        "    try:\n",
        "        # We only need the credentials object from here.\n",
        "        credentials, _ = google.auth.default(scopes=SCOPES)\n",
        "        credentials.refresh(google.auth.transport.requests.Request())\n",
        "        return credentials.token\n",
        "    except Exception as e:\n",
        "        print(f\"An error occurred in get_access_token: {e}\")\n",
        "        return None\n",
        "\n",
        "def delete_agent(agent_resource_name: str, project_id: str):\n",
        "    \\\"\\\"\\\"Deletes an agent registration from Agentspace using its full resource name.\\\"\\\"\\\"\n",
        "    if not agent_resource_name:\n",
        "        raise ValueError(\"agent_resource_name cannot be empty.\")\n",
        "    if not project_id:\n",
        "        raise ValueError(\"project_id cannot be empty.\")\n",
        "\n",
        "    access_token = get_access_token()\n",
        "    if not access_token:\n",
        "        logging.error(\"Failed to obtain access token for delete_agent.\")\n",
        "        return {\"status_code\": 401, \"stdout\": \"\", \"stderr\": \"Failed to obtain access token.\"}\n",
        "\n",
        "    # The API endpoint is the resource name itself, prefixed with the base URL.\n",
        "    # We need to extract the API location (e.g., 'eu') from the name for the URL prefix.\n",
        "    try:\n",
        "        parts = agent_resource_name.split('/')\n",
        "        location = parts[3]\n",
        "        location_prefix = \"\"\n",
        "        if location and location != \"global\":\n",
        "            location_prefix = location + \"-\"\n",
        "\n",
        "        url = f\"https://{location_prefix}discoveryengine.googleapis.com/v1alpha/{agent_resource_name}\"\n",
        "    except IndexError:\n",
        "        return {\"status_code\": 400, \"stdout\": \"\", \"stderr\": \"Invalid agent_resource_name format.\"}\n",
        "\n",
        "\n",
        "    command = [\n",
        "        \"curl\", \"-X\", \"DELETE\",\n",
        "        \"-H\", f\"Authorization: Bearer {access_token}\",\n",
        "        \"-H\", \"Content-Type: application/json\",\n",
        "        # Use the explicitly passed project_id\n",
        "        \"-H\", f\"X-Goog-User-Project: {project_id}\",\n",
        "        url\n",
        "    ]\n",
        "\n",
        "    print(f\"Executing command to delete: {agent_resource_name}\")\n",
        "    result = subprocess.run(command, capture_output=True, text=True)\n",
        "\n",
        "    response = {\"status_code\": result.returncode, \"stdout\": result.stdout, \"stderr\": result.stderr}\n",
        "    return response\n",
        "\"\"\"\n",
        ")\n",
        "\n",
        "# Now that the file is created, we can import it.\n",
        "try:\n",
        "    import as_agent_deletion_service\n",
        "    importlib.reload(as_agent_deletion_service)\n",
        "    from as_agent_deletion_service import delete_agent as delete_agent_from_agentspace\n",
        "    print(\"✅ Successfully imported Agentspace deletion service.\")\n",
        "except ImportError:\n",
        "    print(\"❌ ERROR: 'as_agent_deletion_service.py' not found.\")\n",
        "    raise\n",
        "\n",
        "# --- Step 6.2: Get Agent Resource Name to Delete ---\n",
        "print(\"\\n📝 Please provide the full resource name of the agent you wish to delete.\")\n",
        "print(\"   Example: projects/your-project/locations/eu/collections/default_collection/engines/your-app/assistants/default_assistant/agents/12345\")\n",
        "\n",
        "agent_to_delete = input(\"🔴 Agent Resource Name: \").strip()\n",
        "while not agent_to_delete:\n",
        "    print(\"   ❌ Agent Resource Name is required!\")\n",
        "    agent_to_delete = input(\"🔴 Agent Resource Name: \").strip()\n",
        "\n",
        "# --- Step 6.3: Confirm and Execute Deletion ---\n",
        "print(f\"\\n⚠️  You are about to permanently delete the agent registration:\")\n",
        "print(f\"   {agent_to_delete}\")\n",
        "confirmation = input(\"   Are you sure you want to proceed? (yes/no): \").strip().lower()\n",
        "\n",
        "if confirmation == 'yes':\n",
        "    print(\"\\n🔄 Deleting agent registration...\")\n",
        "    try:\n",
        "        # Check if PROJECT_ID exists from Phase 1\n",
        "        if 'PROJECT_ID' not in locals():\n",
        "             raise NameError(\"PROJECT_ID is not defined. Please run Phase 1 of the notebook.\")\n",
        "\n",
        "        # Pass the PROJECT_ID to the deletion function\n",
        "        deletion_result = delete_agent_from_agentspace(\n",
        "            agent_resource_name=agent_to_delete,\n",
        "            project_id=PROJECT_ID\n",
        "        )\n",
        "\n",
        "        if deletion_result.get(\"status_code\") == 0:\n",
        "            print(\"✅ Agent registration deleted successfully.\")\n",
        "        else:\n",
        "            print(\"❌ Deletion failed.\")\n",
        "            print(\"   - Status Code:\", deletion_result.get(\"status_code\"))\n",
        "            # Try to parse and print error from stdout if available\n",
        "            try:\n",
        "                error_details = json.loads(deletion_result.get(\"stdout\", \"{}\"))\n",
        "                print(\"\\n📋 API Error Details:\")\n",
        "                print(json.dumps(error_details.get('error', {}), indent=2))\n",
        "            except json.JSONDecodeError:\n",
        "                print(\"   - Raw Error Details (stderr):\", deletion_result.get(\"stderr\"))\n",
        "\n",
        "    except Exception as e:\n",
        "        print(f\"\\n❌ An unexpected error occurred during deletion: {e}\")\n",
        "        import traceback\n",
        "        traceback.print_exc()\n",
        "else:\n",
        "    print(\"\\n🚫 Deletion cancelled.\")"
      ],
      "metadata": {
        "id": "ULK3vg3ucplp"
      },
      "execution_count": null,
      "outputs": []
    }
  ],
  "metadata": {
    "colab": {
      "provenance": []
    },
    "kernelspec": {
      "display_name": "Python 3",
      "name": "python3"
    },
    "language_info": {
      "name": "python"
    }
  },
  "nbformat": 4,
  "nbformat_minor": 0
}